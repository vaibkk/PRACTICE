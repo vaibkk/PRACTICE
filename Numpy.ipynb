{
 "cells": [
  {
   "cell_type": "code",
   "execution_count": 1,
   "id": "a4b1f8a6",
   "metadata": {},
   "outputs": [],
   "source": [
    "import numpy as np"
   ]
  },
  {
   "cell_type": "code",
   "execution_count": 2,
   "id": "085f2962",
   "metadata": {},
   "outputs": [
    {
     "name": "stdout",
     "output_type": "stream",
     "text": [
      "[ 0  1  2  3  4  5  6  7  8  9 10 11 12 13 14]\n",
      "[[ 0  1  2  3  4]\n",
      " [ 5  6  7  8  9]\n",
      " [10 11 12 13 14]]\n"
     ]
    }
   ],
   "source": [
    "# Use arange() to create random 15 value array (1-d).\n",
    "print(np.arange(15))\n",
    "# use reshape(m,n) to create mxn matrix\n",
    "print(np.arange(15).reshape(3,5))"
   ]
  },
  {
   "cell_type": "code",
   "execution_count": 4,
   "id": "fe737e4b",
   "metadata": {},
   "outputs": [
    {
     "name": "stdout",
     "output_type": "stream",
     "text": [
      "a.ndim:  2\n",
      "a.shape:  (3, 5)\n",
      "a.size:  15\n",
      "a.dtype:  int32\n",
      "a.itemsize:  4\n",
      "a.data:  <memory at 0x00000236EBC8D450>\n"
     ]
    }
   ],
   "source": [
    "# Check attributes\n",
    "# a.ndim \n",
    "# a.shape\n",
    "# a.size\n",
    "# a.dtype\n",
    "# a.itemsize\n",
    "# a.data\n",
    "a = np.arange(15).reshape(3, 5)\n",
    "print(\"a.ndim: \", a.ndim)\n",
    "print(\"a.shape: \", a.shape)\n",
    "print(\"a.size: \", a.size)\n",
    "print(\"a.dtype: \", a.dtype)\n",
    "print(\"a.itemsize: \", a.itemsize)\n",
    "print(\"a.data: \", a.data)"
   ]
  },
  {
   "cell_type": "code",
   "execution_count": 5,
   "id": "21e76735",
   "metadata": {},
   "outputs": [
    {
     "data": {
      "text/plain": [
       "array([[ 0,  1,  2,  3,  4],\n",
       "       [ 5,  6,  7,  8,  9],\n",
       "       [10, 11, 12, 13, 14]])"
      ]
     },
     "execution_count": 5,
     "metadata": {},
     "output_type": "execute_result"
    }
   ],
   "source": [
    "# Create a ndarray similar to \"a\" using array() function\n",
    "b = np.array([np.arange(0,5), 5+ np.arange(0,5), 10+ np.arange(0,5) ])\n",
    "b"
   ]
  },
  {
   "cell_type": "code",
   "execution_count": 8,
   "id": "36272ed2",
   "metadata": {},
   "outputs": [
    {
     "name": "stdout",
     "output_type": "stream",
     "text": [
      "[[1.+0.j 2.+0.j]\n",
      " [3.+0.j 4.+0.j]]\n",
      "c.ndim:  2\n",
      "c.shape:  (2, 2)\n",
      "c.size:  4\n",
      "c.dtype:  complex128\n",
      "c.itemsize:  16\n",
      "c.data:  <memory at 0x00000236EBC8D520>\n"
     ]
    }
   ],
   "source": [
    "# Create a complex numbers ndarray\n",
    "c = np.array([[1, 2], [3, 4]], dtype=complex)\n",
    "print(c)\n",
    "print(\"c.ndim: \", c.ndim)\n",
    "print(\"c.shape: \", c.shape)\n",
    "print(\"c.size: \", c.size)\n",
    "print(\"c.dtype: \", c.dtype)\n",
    "print(\"c.itemsize: \", c.itemsize)\n",
    "print(\"c.data: \", c.data)"
   ]
  },
  {
   "cell_type": "code",
   "execution_count": 9,
   "id": "3368afad",
   "metadata": {},
   "outputs": [
    {
     "data": {
      "text/plain": [
       "array([[0., 0., 0., 0.],\n",
       "       [0., 0., 0., 0.],\n",
       "       [0., 0., 0., 0.],\n",
       "       [0., 0., 0., 0.]])"
      ]
     },
     "execution_count": 9,
     "metadata": {},
     "output_type": "execute_result"
    }
   ],
   "source": [
    "# Create a matrix of zeros using zeros()\n",
    "np.zeros((4,4))"
   ]
  },
  {
   "cell_type": "code",
   "execution_count": 10,
   "id": "e445d421",
   "metadata": {},
   "outputs": [
    {
     "data": {
      "text/plain": [
       "array([[1, 1, 1, 1],\n",
       "       [1, 1, 1, 1],\n",
       "       [1, 1, 1, 1],\n",
       "       [1, 1, 1, 1]], dtype=int16)"
      ]
     },
     "execution_count": 10,
     "metadata": {},
     "output_type": "execute_result"
    }
   ],
   "source": [
    "# Create an identity matrix using ones()\n",
    "# make sure to use data type (dtype = int16)\n",
    "np.ones((4,4), dtype = np.int16)"
   ]
  },
  {
   "cell_type": "code",
   "execution_count": 11,
   "id": "d9e2f648",
   "metadata": {},
   "outputs": [
    {
     "data": {
      "text/plain": [
       "array([[0., 0., 0., 0.],\n",
       "       [0., 0., 0., 0.],\n",
       "       [0., 0., 0., 0.],\n",
       "       [0., 0., 0., 0.]])"
      ]
     },
     "execution_count": 11,
     "metadata": {},
     "output_type": "execute_result"
    }
   ],
   "source": [
    "# Create an empty matrix using empty()\n",
    "# creates a matrix of infinitesimal small values\n",
    "np.empty((4,4))"
   ]
  },
  {
   "cell_type": "code",
   "execution_count": 12,
   "id": "c8b83e0e",
   "metadata": {},
   "outputs": [
    {
     "name": "stdout",
     "output_type": "stream",
     "text": [
      "[0.         0.11111111 0.22222222 0.33333333 0.44444444 0.55555556\n",
      " 0.66666667 0.77777778 0.88888889 1.        ]\n",
      "[ 0.    1.25  2.5   3.75  5.    6.25  7.5   8.75 10.  ]\n"
     ]
    }
   ],
   "source": [
    "# Use linspace() to create values between two numbers\n",
    "# create 10 values between 0 and 1\n",
    "print(np.linspace(0,1,10))\n",
    "# create 9 values between 0 and 10\n",
    "print(np.linspace(0,10,9))"
   ]
  },
  {
   "cell_type": "code",
   "execution_count": 13,
   "id": "42654d02",
   "metadata": {},
   "outputs": [
    {
     "name": "stdout",
     "output_type": "stream",
     "text": [
      "1-d array\n",
      "[0 1 2 3 4 5]\n",
      "2-d array\n",
      "[[ 0  1  2]\n",
      " [ 3  4  5]\n",
      " [ 6  7  8]\n",
      " [ 9 10 11]]\n",
      "3-d array\n",
      "[[[ 0  1  2  3]\n",
      "  [ 4  5  6  7]\n",
      "  [ 8  9 10 11]]\n",
      "\n",
      " [[12 13 14 15]\n",
      "  [16 17 18 19]\n",
      "  [20 21 22 23]]]\n",
      "4-d array\n",
      "[[[[ 0  1]\n",
      "   [ 2  3]]\n",
      "\n",
      "  [[ 4  5]\n",
      "   [ 6  7]]\n",
      "\n",
      "  [[ 8  9]\n",
      "   [10 11]]]\n",
      "\n",
      "\n",
      " [[[12 13]\n",
      "   [14 15]]\n",
      "\n",
      "  [[16 17]\n",
      "   [18 19]]\n",
      "\n",
      "  [[20 21]\n",
      "   [22 23]]]]\n"
     ]
    }
   ],
   "source": [
    "# Create multi-dimensional arrays\n",
    "print(\"1-d array\")\n",
    "print(np.arange(6)) # 1-d array\n",
    "print(\"2-d array\")\n",
    "print(np.arange(12).reshape(4, 3) ) #2-d array\n",
    "print(\"3-d array\")\n",
    "print(np.arange(24).reshape(2, 3, 4)) #3-d array\n",
    "print(\"4-d array\")\n",
    "print(np.arange(24).reshape(2, 3, 2, 2)) #4-d array"
   ]
  },
  {
   "cell_type": "markdown",
   "id": "ca03129e",
   "metadata": {},
   "source": [
    "# PART 2"
   ]
  },
  {
   "cell_type": "code",
   "execution_count": 17,
   "id": "ec7f7e79",
   "metadata": {},
   "outputs": [
    {
     "name": "stdout",
     "output_type": "stream",
     "text": [
      "a : [20 30 40 50]\n",
      "b : [0 1 2 3]\n"
     ]
    },
    {
     "data": {
      "text/plain": [
       "numpy.ndarray"
      ]
     },
     "execution_count": 17,
     "metadata": {},
     "output_type": "execute_result"
    }
   ],
   "source": [
    "# create a 1-d ndarray named \"a\"\n",
    "a = np.array([20, 30, 40, 50])\n",
    "# create a 1-d ndarray named \"b\"\n",
    "b = np.arange(4)\n",
    "print(\"a :\", a)\n",
    "print(\"b :\", b)\n",
    "type(a)"
   ]
  },
  {
   "cell_type": "code",
   "execution_count": 18,
   "id": "1a13c7ff",
   "metadata": {},
   "outputs": [
    {
     "name": "stdout",
     "output_type": "stream",
     "text": [
      "a+b :  [20 31 42 53]\n",
      "a+b+b :  [20 32 44 56]\n"
     ]
    }
   ],
   "source": [
    "# addition operations\n",
    "print(\"a+b : \", a+b)\n",
    "print(\"a+b+b : \", a+b+b)"
   ]
  },
  {
   "cell_type": "code",
   "execution_count": 19,
   "id": "4cffff2b",
   "metadata": {},
   "outputs": [
    {
     "name": "stdout",
     "output_type": "stream",
     "text": [
      "c:  [20 29 38 47]\n",
      "b-a:  [-20 -29 -38 -47]\n"
     ]
    }
   ],
   "source": [
    "# subtraction operations\n",
    "c = a - b\n",
    "print(\"c: \", c)\n",
    "print(\"b-a: \", b-a)"
   ]
  },
  {
   "cell_type": "code",
   "execution_count": 20,
   "id": "e6783860",
   "metadata": {},
   "outputs": [
    {
     "data": {
      "text/plain": [
       "array([0, 1, 4, 9], dtype=int32)"
      ]
     },
     "execution_count": 20,
     "metadata": {},
     "output_type": "execute_result"
    }
   ],
   "source": [
    "# power operations\n",
    "b**2"
   ]
  },
  {
   "cell_type": "code",
   "execution_count": 24,
   "id": "1e48126b",
   "metadata": {},
   "outputs": [
    {
     "data": {
      "text/plain": [
       "array([ 9.12945251, -9.88031624,  7.4511316 , -2.62374854])"
      ]
     },
     "execution_count": 24,
     "metadata": {},
     "output_type": "execute_result"
    }
   ],
   "source": [
    "# multiplication operations\n",
    "10 * np.sin(a)"
   ]
  },
  {
   "cell_type": "code",
   "execution_count": 25,
   "id": "89060d95",
   "metadata": {},
   "outputs": [
    {
     "data": {
      "text/plain": [
       "array([ True,  True, False, False])"
      ]
     },
     "execution_count": 25,
     "metadata": {},
     "output_type": "execute_result"
    }
   ],
   "source": [
    "# boolean operations\n",
    "a < 35"
   ]
  },
  {
   "cell_type": "markdown",
   "id": "89c682e2",
   "metadata": {},
   "source": [
    "# Unary Operations"
   ]
  },
  {
   "cell_type": "code",
   "execution_count": 26,
   "id": "5c90964c",
   "metadata": {},
   "outputs": [
    {
     "name": "stdout",
     "output_type": "stream",
     "text": [
      "x :  [1 2 3 4 5]\n",
      "sum of x :  15\n",
      "min of x :  1\n",
      "max of x :  5\n",
      "mean of x :  3.0\n"
     ]
    }
   ],
   "source": [
    "x = np.array((1,2,3,4,5), dtype = int)\n",
    "print(\"x : \", x)\n",
    "print(\"sum of x : \", x.sum())\n",
    "print(\"min of x : \", x.min() )\n",
    "print(\"max of x : \", x.max() )\n",
    "print(\"mean of x : \", x.mean() )\n",
    "#print(\"median of x : \", x.median() )\n",
    "#print(\"sd of x : \", x.sd() )"
   ]
  },
  {
   "cell_type": "markdown",
   "id": "eaefecd2",
   "metadata": {},
   "source": [
    "# Matrix Operations"
   ]
  },
  {
   "cell_type": "code",
   "execution_count": 27,
   "id": "5e4d59e3",
   "metadata": {},
   "outputs": [
    {
     "name": "stdout",
     "output_type": "stream",
     "text": [
      "Matrix A: \n",
      " [[1 1]\n",
      " [0 1]]\n",
      "Matrix B: \n",
      " [[2 0]\n",
      " [3 4]]\n"
     ]
    }
   ],
   "source": [
    "# Create two matrices A and B using Numpy array() function\n",
    "A = np.array([[1, 1],\n",
    "             [0, 1]])\n",
    "B = np.array([[2, 0],\n",
    "             [3, 4]])\n",
    "\n",
    "print(\"Matrix A: \\n\", A)\n",
    "print(\"Matrix B: \\n\", B)"
   ]
  },
  {
   "cell_type": "code",
   "execution_count": 28,
   "id": "1c8a37be",
   "metadata": {},
   "outputs": [
    {
     "data": {
      "text/plain": [
       "array([[2, 0],\n",
       "       [0, 4]])"
      ]
     },
     "execution_count": 28,
     "metadata": {},
     "output_type": "execute_result"
    }
   ],
   "source": [
    "# Element-wise product\n",
    "A * B   "
   ]
  },
  {
   "cell_type": "code",
   "execution_count": 29,
   "id": "59bae18a",
   "metadata": {},
   "outputs": [
    {
     "data": {
      "text/plain": [
       "array([[5, 4],\n",
       "       [3, 4]])"
      ]
     },
     "execution_count": 29,
     "metadata": {},
     "output_type": "execute_result"
    }
   ],
   "source": [
    "# matrix product\n",
    "A @ B "
   ]
  },
  {
   "cell_type": "code",
   "execution_count": 30,
   "id": "b89c2672",
   "metadata": {},
   "outputs": [
    {
     "data": {
      "text/plain": [
       "array([[5, 4],\n",
       "       [3, 4]])"
      ]
     },
     "execution_count": 30,
     "metadata": {},
     "output_type": "execute_result"
    }
   ],
   "source": [
    "# another way of achieveing matrix product\n",
    "A.dot(B)"
   ]
  },
  {
   "cell_type": "code",
   "execution_count": 31,
   "id": "4edccea8",
   "metadata": {},
   "outputs": [
    {
     "name": "stdout",
     "output_type": "stream",
     "text": [
      "A : \n",
      " [[1 1]\n",
      " [0 1]]\n",
      "A *= 3 : \n",
      "  [[3 3]\n",
      " [0 3]]\n"
     ]
    }
   ],
   "source": [
    "# operators such as *= and += act as modifying existing arrays instead of creating new arrays\n",
    "print( \"A : \\n\", A)\n",
    "A *= 3\n",
    "print( \"A *= 3 : \\n \", A)"
   ]
  },
  {
   "cell_type": "code",
   "execution_count": 32,
   "id": "2028e1bb",
   "metadata": {},
   "outputs": [
    {
     "name": "stdout",
     "output_type": "stream",
     "text": [
      "C : \n",
      " [[1 1]\n",
      " [1 1]]\n",
      "A : \n",
      " [[4 4]\n",
      " [1 4]]\n"
     ]
    }
   ],
   "source": [
    "C = np.ones((2,2), dtype=int)\n",
    "print(\"C : \\n\", C)\n",
    "A += C\n",
    "print(\"A : \\n\", A)"
   ]
  },
  {
   "cell_type": "markdown",
   "id": "47234056",
   "metadata": {},
   "source": [
    "# Universal functions"
   ]
  },
  {
   "cell_type": "code",
   "execution_count": 33,
   "id": "7a2191b1",
   "metadata": {},
   "outputs": [
    {
     "name": "stdout",
     "output_type": "stream",
     "text": [
      "A : \n",
      " [[4 4]\n",
      " [1 4]]\n",
      "B : \n",
      " [[2 0]\n",
      " [3 4]]\n",
      "A+B : \n",
      " [[6 4]\n",
      " [4 8]]\n"
     ]
    }
   ],
   "source": [
    "print(\"A : \\n\", A)\n",
    "print(\"B : \\n\", B)\n",
    "print(\"A+B : \\n\", np.add(A,B))"
   ]
  },
  {
   "cell_type": "code",
   "execution_count": 34,
   "id": "d30ed9db",
   "metadata": {},
   "outputs": [
    {
     "name": "stdout",
     "output_type": "stream",
     "text": [
      "A : \n",
      " [[4 4]\n",
      " [1 4]]\n",
      "exponential of A : \n",
      " [[54.59815003 54.59815003]\n",
      " [ 2.71828183 54.59815003]]\n",
      "Log of A : \n",
      " [[1.38629436 1.38629436]\n",
      " [0.         1.38629436]]\n"
     ]
    }
   ],
   "source": [
    "print(\"A : \\n\", A)\n",
    "print(\"exponential of A : \\n\", np.exp(A))\n",
    "print(\"Log of A : \\n\", np.log(A))"
   ]
  },
  {
   "cell_type": "code",
   "execution_count": 36,
   "id": "c3a90e7a",
   "metadata": {},
   "outputs": [
    {
     "name": "stdout",
     "output_type": "stream",
     "text": [
      "A : \n",
      " [[4 4]\n",
      " [1 4]]\n",
      "Square of A : \n",
      " [[16 16]\n",
      " [ 1 16]]\n",
      "Square root of A : \n",
      " [[2. 2.]\n",
      " [1. 2.]]\n"
     ]
    }
   ],
   "source": [
    "print(\"A : \\n\", A)\n",
    "print(\"Square of A : \\n\", np.square(A))\n",
    "print(\"Square root of A : \\n\", np.sqrt(A))"
   ]
  },
  {
   "cell_type": "markdown",
   "id": "1651e995",
   "metadata": {},
   "source": [
    "# Indexing, Slicing and Iterating"
   ]
  },
  {
   "cell_type": "code",
   "execution_count": 37,
   "id": "07404109",
   "metadata": {},
   "outputs": [
    {
     "data": {
      "text/plain": [
       "array([  0,   1,   8,  27,  64, 125, 216, 343, 512, 729], dtype=int32)"
      ]
     },
     "execution_count": 37,
     "metadata": {},
     "output_type": "execute_result"
    }
   ],
   "source": [
    "a = np.arange(10)**3\n",
    "a"
   ]
  },
  {
   "cell_type": "code",
   "execution_count": 38,
   "id": "7df95bb4",
   "metadata": {},
   "outputs": [
    {
     "data": {
      "text/plain": [
       "array([  0,   1,   8,  27,  64, 125, 216, 343, 512, 729], dtype=int32)"
      ]
     },
     "execution_count": 38,
     "metadata": {},
     "output_type": "execute_result"
    }
   ],
   "source": [
    "a = np.arange(10)**3\n",
    "a"
   ]
  },
  {
   "cell_type": "code",
   "execution_count": 39,
   "id": "eaea50cb",
   "metadata": {},
   "outputs": [
    {
     "data": {
      "text/plain": [
       "array([  0,   1,   8,  27,  64, 125, 216, 343, 512, 729], dtype=int32)"
      ]
     },
     "execution_count": 39,
     "metadata": {},
     "output_type": "execute_result"
    }
   ],
   "source": [
    "# extract all elements\n",
    "a[:]"
   ]
  },
  {
   "cell_type": "code",
   "execution_count": 40,
   "id": "aa9cb9ba",
   "metadata": {},
   "outputs": [
    {
     "data": {
      "text/plain": [
       "array([ 64, 125, 216, 343], dtype=int32)"
      ]
     },
     "execution_count": 40,
     "metadata": {},
     "output_type": "execute_result"
    }
   ],
   "source": [
    "# extract all elements from 5th to 8th positions\n",
    "a[4:8]"
   ]
  },
  {
   "cell_type": "code",
   "execution_count": 41,
   "id": "e6d3c833",
   "metadata": {},
   "outputs": [
    {
     "data": {
      "text/plain": [
       "array([ 64, 125, 216, 343, 512, 729], dtype=int32)"
      ]
     },
     "execution_count": 41,
     "metadata": {},
     "output_type": "execute_result"
    }
   ],
   "source": [
    "# from 5th element to last element in array\n",
    "a[4:]"
   ]
  },
  {
   "cell_type": "code",
   "execution_count": 42,
   "id": "40e294e0",
   "metadata": {},
   "outputs": [
    {
     "data": {
      "text/plain": [
       "array([  0,   1,   8,  27,  64, 125, 216, 343], dtype=int32)"
      ]
     },
     "execution_count": 42,
     "metadata": {},
     "output_type": "execute_result"
    }
   ],
   "source": [
    "# from the first element in an array upto 8th element (including 8th element)\n",
    "a[:8]"
   ]
  },
  {
   "cell_type": "markdown",
   "id": "bac059d6",
   "metadata": {},
   "source": [
    "# Multidimensional array"
   ]
  },
  {
   "cell_type": "code",
   "execution_count": 43,
   "id": "8858d185",
   "metadata": {},
   "outputs": [
    {
     "data": {
      "text/plain": [
       "array([[[  0,   1,   2],\n",
       "        [ 10,  12,  13]],\n",
       "\n",
       "       [[100, 101, 102],\n",
       "        [110, 112, 113]]])"
      ]
     },
     "execution_count": 43,
     "metadata": {},
     "output_type": "execute_result"
    }
   ],
   "source": [
    "# a 3D array (two stacked 2D arrays)\n",
    "c = np.array([[[  0,  1,  2],  \n",
    "               [ 10, 12, 13]],\n",
    "              [[100, 101, 102],\n",
    "               [110, 112, 113]]])\n",
    "c"
   ]
  },
  {
   "cell_type": "code",
   "execution_count": 44,
   "id": "15684bcd",
   "metadata": {},
   "outputs": [
    {
     "data": {
      "text/plain": [
       "(2, 2, 3)"
      ]
     },
     "execution_count": 44,
     "metadata": {},
     "output_type": "execute_result"
    }
   ],
   "source": [
    "# Check the dimenstions of c ndarray\n",
    "c.shape"
   ]
  },
  {
   "cell_type": "code",
   "execution_count": 45,
   "id": "a973c989",
   "metadata": {},
   "outputs": [
    {
     "data": {
      "text/plain": [
       "array([[[  0,   1,   2],\n",
       "        [ 10,  12,  13]],\n",
       "\n",
       "       [[100, 101, 102],\n",
       "        [110, 112, 113]]])"
      ]
     },
     "execution_count": 45,
     "metadata": {},
     "output_type": "execute_result"
    }
   ],
   "source": [
    "# extract all elements\n",
    "c[::]"
   ]
  },
  {
   "cell_type": "code",
   "execution_count": 46,
   "id": "b087e5cd",
   "metadata": {},
   "outputs": [
    {
     "data": {
      "text/plain": [
       "array([[[  0,   1,   2],\n",
       "        [ 10,  12,  13]],\n",
       "\n",
       "       [[100, 101, 102],\n",
       "        [110, 112, 113]]])"
      ]
     },
     "execution_count": 46,
     "metadata": {},
     "output_type": "execute_result"
    }
   ],
   "source": [
    "# extract all elements\n",
    "c[0:,:]"
   ]
  },
  {
   "cell_type": "code",
   "execution_count": 47,
   "id": "32495218",
   "metadata": {},
   "outputs": [
    {
     "data": {
      "text/plain": [
       "array([[[ 0,  1,  2],\n",
       "        [10, 12, 13]]])"
      ]
     },
     "execution_count": 47,
     "metadata": {},
     "output_type": "execute_result"
    }
   ],
   "source": [
    "# extract first elements (2x3 matrix) on first axis\n",
    "c[0:1,:]"
   ]
  },
  {
   "cell_type": "code",
   "execution_count": 48,
   "id": "9fdcf3f5",
   "metadata": {},
   "outputs": [
    {
     "data": {
      "text/plain": [
       "array([[[100, 101, 102],\n",
       "        [110, 112, 113]]])"
      ]
     },
     "execution_count": 48,
     "metadata": {},
     "output_type": "execute_result"
    }
   ],
   "source": [
    "# extract second elements (2x3 matrix) on first axis\n",
    "c[1:,:]"
   ]
  },
  {
   "cell_type": "code",
   "execution_count": 49,
   "id": "c5dbb0c1",
   "metadata": {},
   "outputs": [
    {
     "data": {
      "text/plain": [
       "array([[ 13,  12],\n",
       "       [113, 112]])"
      ]
     },
     "execution_count": 49,
     "metadata": {},
     "output_type": "execute_result"
    }
   ],
   "source": [
    "# In both the matrices, fetch 2nd row 3rd & 2nd elements\n",
    "c[:,1,[2,1]]"
   ]
  },
  {
   "cell_type": "code",
   "execution_count": 50,
   "id": "82354f18",
   "metadata": {},
   "outputs": [
    {
     "data": {
      "text/plain": [
       "array([[113, 112]])"
      ]
     },
     "execution_count": 50,
     "metadata": {},
     "output_type": "execute_result"
    }
   ],
   "source": [
    "# In the 2nd matrix, fetch 2nd row 3rd & 2nd elements\n",
    "c[1:,1,[2,1]]"
   ]
  },
  {
   "cell_type": "markdown",
   "id": "302f73fb",
   "metadata": {},
   "source": [
    "# Create field names for numpy array, and index by field names"
   ]
  },
  {
   "cell_type": "code",
   "execution_count": 51,
   "id": "76492c4c",
   "metadata": {},
   "outputs": [],
   "source": [
    "# Create field names n numpy array \n",
    "x = np.array([(1,2)], dtype=[('value','f4'), ('amount','c8')])"
   ]
  },
  {
   "cell_type": "code",
   "execution_count": 52,
   "id": "296159de",
   "metadata": {},
   "outputs": [
    {
     "name": "stdout",
     "output_type": "stream",
     "text": [
      "[2.+0.j]\n",
      "[1.]\n"
     ]
    }
   ],
   "source": [
    "# Access the elements by field names in numpy array\n",
    "print(x['amount'])\n",
    "print(x['value'])"
   ]
  },
  {
   "cell_type": "markdown",
   "id": "116ef4c5",
   "metadata": {},
   "source": [
    "# Stacking numpy arrays"
   ]
  },
  {
   "cell_type": "code",
   "execution_count": 53,
   "id": "64989745",
   "metadata": {},
   "outputs": [
    {
     "name": "stdout",
     "output_type": "stream",
     "text": [
      "x :  [0 1 2 3 4 5 6]\n",
      "y :  [ 0  1  4  9 16 25 36]\n"
     ]
    }
   ],
   "source": [
    "# Create numpy arrays\n",
    "x = np.arange(7)\n",
    "y = np.square(x)\n",
    "print(\"x : \", x)\n",
    "print(\"y : \", y)"
   ]
  },
  {
   "cell_type": "code",
   "execution_count": 54,
   "id": "7e919ad1",
   "metadata": {},
   "outputs": [
    {
     "data": {
      "text/plain": [
       "array([ 0,  1,  2,  3,  4,  5,  6,  0,  1,  4,  9, 16, 25, 36])"
      ]
     },
     "execution_count": 54,
     "metadata": {},
     "output_type": "execute_result"
    }
   ],
   "source": [
    "# hstack Horizontal stacking\n",
    "np.hstack([x,y])"
   ]
  },
  {
   "cell_type": "code",
   "execution_count": 55,
   "id": "2719d74a",
   "metadata": {},
   "outputs": [
    {
     "data": {
      "text/plain": [
       "array([[ 0,  1,  2,  3,  4,  5,  6],\n",
       "       [ 0,  1,  4,  9, 16, 25, 36]])"
      ]
     },
     "execution_count": 55,
     "metadata": {},
     "output_type": "execute_result"
    }
   ],
   "source": [
    "# vstack Vertical stacking\n",
    "np.vstack([x,y])"
   ]
  },
  {
   "cell_type": "code",
   "execution_count": 56,
   "id": "8243f1c4",
   "metadata": {},
   "outputs": [
    {
     "data": {
      "text/plain": [
       "array([[ 0,  0],\n",
       "       [ 1,  1],\n",
       "       [ 2,  4],\n",
       "       [ 3,  9],\n",
       "       [ 4, 16],\n",
       "       [ 5, 25],\n",
       "       [ 6, 36]])"
      ]
     },
     "execution_count": 56,
     "metadata": {},
     "output_type": "execute_result"
    }
   ],
   "source": [
    "# c_ Column-wise stacking\n",
    "np.c_[x,y]"
   ]
  },
  {
   "cell_type": "code",
   "execution_count": 57,
   "id": "56ae4545",
   "metadata": {},
   "outputs": [
    {
     "data": {
      "text/plain": [
       "array([ 0,  1,  2,  3,  4,  5,  6,  0,  1,  4,  9, 16, 25, 36])"
      ]
     },
     "execution_count": 57,
     "metadata": {},
     "output_type": "execute_result"
    }
   ],
   "source": [
    "# r_ Row-wise stacking\n",
    "np.r_[x,y]"
   ]
  },
  {
   "cell_type": "markdown",
   "id": "eec953b4",
   "metadata": {},
   "source": [
    "# Duplicate numpy arrays"
   ]
  },
  {
   "cell_type": "code",
   "execution_count": 58,
   "id": "bb1553af",
   "metadata": {},
   "outputs": [
    {
     "name": "stdout",
     "output_type": "stream",
     "text": [
      "x :  [0 1 2 3 4 5 6]\n",
      "duplicate x values two times :  [0 0 1 1 2 2 3 3 4 4 5 5 6 6]\n"
     ]
    }
   ],
   "source": [
    "# use repeat to duplicate numpy array values\n",
    "print(\"x : \", x)\n",
    "print(\"duplicate x values two times : \", np.repeat(x,2))"
   ]
  },
  {
   "cell_type": "code",
   "execution_count": 60,
   "id": "e08dee25",
   "metadata": {},
   "outputs": [
    {
     "name": "stdout",
     "output_type": "stream",
     "text": [
      "x :  [0 1 2 3 4 5 6]\n",
      "create a duplication of x two times in two rows of matrix : \n",
      " [[0 1 2 3 4 5 6]\n",
      " [0 1 2 3 4 5 6]]\n"
     ]
    }
   ],
   "source": [
    "# use tile to duplicate numpy array in a matrix format\n",
    "print(\"x : \", x)\n",
    "print(\"create a duplication of x two times in two rows of matrix : \\n\", np.tile(x,(2,1)))"
   ]
  },
  {
   "cell_type": "markdown",
   "id": "10c7d33a",
   "metadata": {},
   "source": [
    "# Reshape numpy arrays using reshape method"
   ]
  },
  {
   "cell_type": "code",
   "execution_count": 61,
   "id": "29cc4f68",
   "metadata": {},
   "outputs": [
    {
     "name": "stdout",
     "output_type": "stream",
     "text": [
      "x :  [0 1 2 3 4 5 6 7]\n",
      "Reshape x array into 2x4 matrix  : \n",
      " [[0 1 2 3]\n",
      " [4 5 6 7]]\n",
      "Reshape x array into 4x2 matrix : \n",
      " [[0 1]\n",
      " [2 3]\n",
      " [4 5]\n",
      " [6 7]]\n"
     ]
    }
   ],
   "source": [
    "x = np.arange(8)\n",
    "print(\"x : \", x)\n",
    "print(\"Reshape x array into 2x4 matrix  : \\n\", np.reshape(x,(2,4)))\n",
    "print(\"Reshape x array into 4x2 matrix : \\n\", x.reshape(4,2))"
   ]
  },
  {
   "cell_type": "code",
   "execution_count": 62,
   "id": "db8774d1",
   "metadata": {},
   "outputs": [
    {
     "name": "stdout",
     "output_type": "stream",
     "text": [
      "x :  [[0 1 2 3]\n",
      " [4 5 6 7]]\n",
      "x.reshape(2,4) shape :  (2, 4)\n",
      "x.reshape(2,4) transpose using .T :  [[0 4]\n",
      " [1 5]\n",
      " [2 6]\n",
      " [3 7]]\n",
      "x.reshape(2,4).T shape :  (4, 2)\n",
      "x.reshape(2,4) transpose using transpose() method :  [[0 4]\n",
      " [1 5]\n",
      " [2 6]\n",
      " [3 7]]\n",
      "x.reshape(2,4).transpose(). shape :  (4, 2)\n"
     ]
    }
   ],
   "source": [
    "# reshape numpy arrays using Transpose using .T or .transpose()\n",
    "print(\"x : \", x.reshape(2,4))\n",
    "print(\"x.reshape(2,4) shape : \", x.reshape(2,4).shape)\n",
    "print(\"x.reshape(2,4) transpose using .T : \", x.reshape(2,4).T)\n",
    "print(\"x.reshape(2,4).T shape : \", x.reshape(2,4).T.shape)\n",
    "print(\"x.reshape(2,4) transpose using transpose() method : \", x.reshape(2,4).transpose())\n",
    "print(\"x.reshape(2,4).transpose(). shape : \", x.reshape(2,4).transpose().shape)"
   ]
  },
  {
   "cell_type": "code",
   "execution_count": 63,
   "id": "80100197",
   "metadata": {},
   "outputs": [
    {
     "name": "stdout",
     "output_type": "stream",
     "text": [
      "x :  [0 1 2 3 4 5 6 7]\n",
      "values in x greater than 3 :  [False False False False  True  True  True  True]\n",
      "values in x greater than 3 :  (array([4, 5, 6, 7], dtype=int64),)\n"
     ]
    }
   ],
   "source": [
    "print(\"x : \", x)\n",
    "print(\"values in x greater than 3 : \", x>3)\n",
    "print(\"values in x greater than 3 : \",np.where(x>3))"
   ]
  },
  {
   "cell_type": "code",
   "execution_count": null,
   "id": "77a74bf9",
   "metadata": {},
   "outputs": [],
   "source": []
  },
  {
   "cell_type": "code",
   "execution_count": null,
   "id": "2875007a",
   "metadata": {},
   "outputs": [],
   "source": []
  },
  {
   "cell_type": "code",
   "execution_count": null,
   "id": "8b6180f0",
   "metadata": {},
   "outputs": [],
   "source": []
  }
 ],
 "metadata": {
  "kernelspec": {
   "display_name": "Python 3",
   "language": "python",
   "name": "python3"
  },
  "language_info": {
   "codemirror_mode": {
    "name": "ipython",
    "version": 3
   },
   "file_extension": ".py",
   "mimetype": "text/x-python",
   "name": "python",
   "nbconvert_exporter": "python",
   "pygments_lexer": "ipython3",
   "version": "3.8.8"
  }
 },
 "nbformat": 4,
 "nbformat_minor": 5
}
